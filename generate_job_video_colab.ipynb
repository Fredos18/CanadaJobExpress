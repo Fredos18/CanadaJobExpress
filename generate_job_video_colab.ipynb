```python name=scripts/generate_job_video_colab.ipynb
{
 "cells": [
  {
   "cell_type": "markdown",
   "metadata": {},
   "source": [
    "# Génération automatique de vidéos d’offres d’emploi\n",
    "\n",
    "Ce notebook utilise Python et MoviePy pour générer des vidéos courtes à partir d’une offre d’emploi.\n",
    "\n",
    "Téléversez ce notebook dans Google Colab puis suivez les instructions."
   ]
  },
  {
   "cell_type": "code",
   "metadata": {},
   "source": [
    "# Installer MoviePy si besoin\n",
    "!pip install moviepy"
   ],
   "execution_count": null,
   "outputs": []
  },
  {
   "cell_type": "markdown",
   "metadata": {},
   "source": [
    "## Paramètres de l’offre d’emploi"
   ]
  },
  {
   "cell_type": "code",
   "metadata": {},
   "source": [
    "# Exemple de données à personnaliser\n",
    "job_title = \"Développeur Web Full Stack\"\n",
    "company = \"TechCan\"\n",
    "location = \"Montréal, QC\"\n",
    "description = \"Rejoins une équipe dynamique, projet SaaS, télétravail possible.\"\n",
    "eimt = True\n",
    "sponsor = False\n",
    "output_video = \"/content/job_offer_video.mp4\""
   ],
   "execution_count": null,
   "outputs": []
  },
  {
   "cell_type": "markdown",
   "metadata": {},
   "source": [
    "## Génération de la vidéo"
   ]
  },
  {
   "cell_type": "code",
   "metadata": {},
   "source": [
    "from moviepy.editor import *\n",
    "from moviepy.video.VideoClip import TextClip\n",
    "\n",
    "# Fond simple (ajuster couleur si besoin)\n",
    "background = ColorClip(size=(720,1280), color=(240,240,255), duration=10)\n",
    "\n",
    "lines = [\n",
    "    job_title,\n",
    "    f\"{company} - {location}\",\n",
    "    \"EIMT\" if eimt else \"\",\n",
    "    \"Sponsor\" if sponsor else \"\",\n",
    "    description\n",
    "]\n",
    "lines = [l for l in lines if l]\n",
    "\n",
    "clips = []\n",
    "for i, txt in enumerate(lines):\n",
    "    clip = TextClip(txt, fontsize=56 if i==0 else 44, color='black', font='Arial', size=(680,None)).set_position(('center', 180+i*200)).set_duration(10)\n",
    "    clips.append(clip)\n",
    "\n",
    "final = CompositeVideoClip([background]+clips)\n",
    "\n",
    "final.write_videofile(output_video, fps=24)"
   ],
   "execution_count": null,
   "outputs": []
  },
  {
   "cell_type": "markdown",
   "metadata": {},
   "source": [
    "Téléchargez la vidéo générée depuis l’onglet « Fichiers » de Colab."
   ]
  }
 ],
 "metadata": {
  "colab": {
   "name": "generate_job_video_colab.ipynb"
  },
  "kernelspec": {
   "display_name": "Python 3",
   "language": "python",
   "name": "python3"
  },
  "language_info": {
   "name": "python"
  }
 },
 "nbformat": 4,
 "nbformat_minor": 0
}
```
